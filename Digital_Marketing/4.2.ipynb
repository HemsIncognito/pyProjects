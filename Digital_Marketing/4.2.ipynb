{
 "cells": [
  {
   "cell_type": "markdown",
   "metadata": {},
   "source": [
    "### Welcome to the Case Project Notebook on Banking\n",
    "\n",
    "**Content:**\n",
    "* The data is related to the direct marketing campaigns of a Portuguese banking institution.\n",
    "* The marketing campaigns were based on phone calls.\n",
    "* Often, more than one contact with the same client was required to assess if the product (bank term deposit) would be ('yes') or not ('no') subscribed by the customer.\n",
    "* The dataset contains 45,211 rows and 18 columns, with data collected from May 2008 to November 2010.\n",
    "\n",
    "\n",
    "**Problem Statement:**\n",
    "Term deposits are crucial for banks, representing cash investments that accrue interest over a fixed period. To promote these, banks use various strategies including email marketing, advertisements, telephonic marketing, and digital marketing. Despite the advent of digital channels, telephonic marketing remains one of the most effective means of engaging customers. However, it requires substantial investment due to the need for large call centers to execute these campaigns. Therefore, identifying potential customers who are likely to subscribe to term deposits beforehand is essential for targeted outreach.\n",
    "\n",
    "The *goal* of this project is to predict if a client will subscribe to a term deposit based on data from direct marketing campaigns of a Portuguese banking institution."
   ]
  },
  {
   "cell_type": "code",
   "execution_count": null,
   "metadata": {},
   "outputs": [],
   "source": [
    "import numpy as np\n",
    "import pandas as pd\n",
    "import matplotlib.pyplot as plt\n",
    "import seaborn as sns"
   ]
  },
  {
   "cell_type": "markdown",
   "metadata": {},
   "source": [
    "**Data Loading and Exploration:**\n",
    "   - Load the dataset (`banking_data.csv`) into a DataFrame using Pandas.\n",
    "   - Exploring the structure of the dataset (number of rows, columns, data types, unique values and recognising patterns for data analysis)."
   ]
  },
  {
   "cell_type": "markdown",
   "metadata": {},
   "source": []
  }
 ],
 "metadata": {
  "kernelspec": {
   "display_name": "Python 3",
   "language": "python",
   "name": "python3"
  },
  "language_info": {
   "name": "python",
   "version": "3.11.2"
  }
 },
 "nbformat": 4,
 "nbformat_minor": 2
}
